{
 "cells": [
  {
   "cell_type": "markdown",
   "metadata": {
    "colab_type": "text",
    "id": "x4wyPX7OMHQS"
   },
   "source": [
    "# Projeto Spotify - SVM (Support Vector Machine)"
   ]
  },
  {
   "cell_type": "markdown",
   "metadata": {
    "colab_type": "text",
    "id": "j05oIEZqMHQT"
   },
   "source": [
    "Projeto de Machine Learning no curso Data Science do Zero da Stack Academy utilizando o método SVM desenvolvido. O objetivo é a modelar dados do Spotify para a criar um classificador que identifica possíveis músicas que um usuário poderia gostar."
   ]
  },
  {
   "cell_type": "markdown",
   "metadata": {},
   "source": [
    "# Features do conjunto de dados\n",
    "<a href=\"https://developer.spotify.com/documentation/web-api/reference/#/operations/get-audio-features\">Informações retiradas do site oficial do Spotify.</a>"
   ]
  },
  {
   "cell_type": "markdown",
   "metadata": {},
   "source": [
    "- **acousticness (*float*):** Varia de 0.0 a 1.0 e indica o quão acústica é a faixa.\n",
    "- **analysis_url (*string*):** Uma URL de acesso a uma análise completa da faixa. t\n",
    "- **danceability (*float*):** Varia de 0.0 a 0.1 e indica o quão dancante é a faixa de acordo com uma combinação de diversos elementos musicais.\n",
    "- **duration_ms (*int*):** A duração da faixa em milissegundos.\n",
    "- **energy (*float*):** Varia de 0.0 to 1.0 e representa uma medida perceptível de intensidade e atividade.\n",
    "- **id (*int*):** A ID da faixa no Spotify.\n",
    "- **instrumentalness (*float*):** Indica se a faixa é instrumental. Valores acima de 0.5 sugerem que a faixa não contém vocais, sendo um indicador mais confiável quanto mais próximo de 1.0.\n",
    "- **key (*int*):** Indica o tom da música. Se nenhum tom for identificado, a feature assume o valor 0.\n",
    "- **liveness (*float*):** Indica a presença de platéia na gravaçao. Um valor superior a 0.8 sugere fortemente que a faixa foi gravada ao vivo.\n",
    "- **loudness (*float*):** A intensidade sonora em decibéis (dB).\n",
    "- **mode (*int*):** Indica a escala da faixa. Escala maior é representada por 1 e escala menor é representada por 0.\n",
    "- **speechiness (*float*):** Indica a presença de palavras faladas na faixa. Valores maiores que 0.66 sugerem que provavelmente a faixa é inteiramente falada, enquanto valores menores que 0.33 costumam representar músicas ou outras faixas não-faladas. \n",
    "- **tempo (*float*):** O andamento da faixa em batidas por minuto (BPM).\n",
    "- **time_signature (*int*):** Representa a métrica da música e varia de 3 a 7, em referência às métricas de 3/4 a 7/4.\n",
    "- **track_href (*string*):** Um link que contém detalhes da faixa. \n",
    "- **type (*string*):** O tipo de objeto (\"audio_features\")\n",
    "- **uri (*string*):** A URI da faixa no Spotify.\n",
    "- **valence (*float*):** Varia de 0.0 a 1.0 e indica a positividade da faixa. Valores acima de 0.5 sugerem um som mais alege e eufórico, enquanto valores mais baixos costumam soar mais tristes.\n",
    "- **target (*int*):** Indica se o usuário gosta (1) ou não (0) da faixa.\n",
    "- **song_title (*string*):** Título da faixa.\n",
    "- **artist (*string*):** Artista da faixa."
   ]
  },
  {
   "cell_type": "markdown",
   "metadata": {
    "colab_type": "text",
    "id": "mn3VerzjMHQU"
   },
   "source": [
    "# Etapas do projeto"
   ]
  },
  {
   "cell_type": "markdown",
   "metadata": {
    "colab_type": "text",
    "id": "SZstNVZGMHQV"
   },
   "source": [
    "1. Leitura e análise preliminar dos dados\n",
    "2. Pré-processamento de dados\n",
    "3. Modelagem "
   ]
  },
  {
   "cell_type": "markdown",
   "metadata": {
    "colab_type": "text",
    "id": "L-YyINA9MHTf"
   },
   "source": [
    "# 1. Leitura e análise preliminar dos dados"
   ]
  },
  {
   "cell_type": "markdown",
   "metadata": {
    "colab_type": "text",
    "id": "n1nsAxdXMHQt"
   },
   "source": [
    "### **Bibliotecas utilizadas**"
   ]
  },
  {
   "cell_type": "code",
   "execution_count": null,
   "metadata": {
    "colab": {},
    "colab_type": "code",
    "id": "Zw-w0MyuMHQu"
   },
   "outputs": [],
   "source": [
    "from sklearn.model_selection import cross_val_predict\n",
    "from sklearn import metrics, svm\n",
    "import matplotlib.pyplot as plt\n",
    "import pandas as pd\n",
    "import numpy as np\n",
    "import seaborn as sns"
   ]
  },
  {
   "cell_type": "markdown",
   "metadata": {},
   "source": [
    "### **Leitura dos dados**"
   ]
  },
  {
   "cell_type": "code",
   "execution_count": null,
   "metadata": {},
   "outputs": [],
   "source": [
    "dados = pd.read_csv('spotify.csv')\n",
    "dados.sample(10)"
   ]
  },
  {
   "cell_type": "markdown",
   "metadata": {},
   "source": [
    "### **Análise preliminar dos dados e geração de relatório em html com informações estatíticas**"
   ]
  },
  {
   "cell_type": "code",
   "execution_count": null,
   "metadata": {},
   "outputs": [],
   "source": [
    "dados.info() "
   ]
  },
  {
   "cell_type": "code",
   "execution_count": null,
   "metadata": {},
   "outputs": [],
   "source": [
    "dados.describe() "
   ]
  },
  {
   "cell_type": "code",
   "execution_count": null,
   "metadata": {},
   "outputs": [],
   "source": [
    "from pandas_profiling import ProfileReport\n",
    "\n",
    "relatorio = ProfileReport(dados, title='Relatório Spotify') \n",
    "relatorio.to_file('relatorio_spotify.html') "
   ]
  },
  {
   "cell_type": "markdown",
   "metadata": {},
   "source": [
    "- Não há valores faltantes nem dados duplicados!\n",
    "- Pela análise do calor de mapa das correlações de Pearson presentes no relatório, percebe-se uma correlação negativa moderada entre loudness e acousticness, uma correlação negativa forte entre energy e acousticness, e uma correlação positiva forte entre loudness e energy."
   ]
  },
  {
   "cell_type": "markdown",
   "metadata": {},
   "source": [
    "### **Visualização das preferências do usuário.**"
   ]
  },
  {
   "cell_type": "markdown",
   "metadata": {},
   "source": [
    "- Features analisadas: 'acousticness','danceability','energy','instrumentalness','loudness','speechiness','tempo','valence' e 'target'.\n",
    "- Pontos verdes: Usuário não gosta da faixa\n",
    "- Pontos laranjas: Usuário gosta da faixa"
   ]
  },
  {
   "cell_type": "code",
   "execution_count": null,
   "metadata": {},
   "outputs": [],
   "source": [
    "legenda = pd.cut(dados['target'],2,labels=['Não gosta','Gosta'])\n",
    "dados['Legenda'] = legenda\n",
    "\n",
    "%matplotlib notebook\n",
    "features = ['acousticness','danceability','energy','instrumentalness','loudness','speechiness','tempo','valence','Legenda']\n",
    "f = sns.pairplot(dados[features], hue='Legenda', palette = 'Set2')\n",
    "plt.savefig('pairplot.pdf')\n",
    "f.savefig('pairplot.pdf') "
   ]
  },
  {
   "cell_type": "markdown",
   "metadata": {},
   "source": [
    "**Inicialmente, pela análise das interações das features não é possível identificar um padrão claro entre as músicas aprovadas e as não apovadas pelo usuário.**"
   ]
  },
  {
   "cell_type": "markdown",
   "metadata": {
    "colab_type": "text",
    "id": "FcvPJ_2bMHT8"
   },
   "source": [
    "# 2. Pré-processamento de dados"
   ]
  },
  {
   "cell_type": "markdown",
   "metadata": {},
   "source": [
    "### **Separação da classe de interesse: target.**"
   ]
  },
  {
   "cell_type": "code",
   "execution_count": null,
   "metadata": {},
   "outputs": [],
   "source": [
    "classe = dados['target']\n",
    "dados.drop('target', axis=1, inplace=True)\n",
    "dados.head()"
   ]
  },
  {
   "cell_type": "markdown",
   "metadata": {},
   "source": [
    "### **Remoção de features que não tem contribuição no modelo.**"
   ]
  },
  {
   "cell_type": "code",
   "execution_count": null,
   "metadata": {},
   "outputs": [],
   "source": [
    "def remove_features(lista_features):\n",
    "    dados.drop(lista_features, axis=1, inplace=True)\n",
    "    return\n",
    "\n",
    "remove_features(['id','song_title','Legenda'])\n",
    "dados.head()"
   ]
  },
  {
   "cell_type": "markdown",
   "metadata": {
    "colab_type": "text",
    "id": "9LKo2KzbMHVP"
   },
   "source": [
    "### **Transformação de variáveis categóricas.**\n",
    "- O método SVM não funciona para dados categóricos, como no caso da feature artist.\n",
    "- Por isso, convém usar técnicas para codificar valores categoricos em numéricos.\n",
    "- O Pandas Get-dummies é uma técnica que converte uma lista categórica de *n* itens únicos em uma matriz de presença de *n* colunas com valores binários que indicam a presença (1) ou não (0) de cada variável em cada linha, e concatena essa matriz ao conjunto de dados. Sua desvantagem, no entanto, é **alta dimensionalidade** do novo conjunto de dados que pode geras um dataframe muito esparso quando as features apresentam muitos valores distintos."
   ]
  },
  {
   "cell_type": "code",
   "execution_count": null,
   "metadata": {},
   "outputs": [],
   "source": [
    "dados_gd = pd.get_dummies(dados, columns=['artist'], prefix=['artist'])\n",
    "dados_gd"
   ]
  },
  {
   "cell_type": "markdown",
   "metadata": {},
   "source": [
    "- LabelEnconder é uma técnica que converte uma lista categórica como _(‘branco’,’preto’,’amarelo’,’vermelho’,'branco')_ em outra númerica como __(1,2,3,4,1)__, superando o problema de alta dimensionalidade gerada por técnicas como o Pandas GetDummies. No entanto, este método pode causar problemas de **ordenação**, atribuindo pesos aos dados categóricos."
   ]
  },
  {
   "cell_type": "code",
   "execution_count": null,
   "metadata": {},
   "outputs": [],
   "source": [
    "from sklearn.preprocessing import LabelEncoder\n",
    "\n",
    "codificador = LabelEncoder() #istancia o método \n",
    "inteiros = codificador.fit_transform(dados['artist']) #codifica os valores da variável categórica\n",
    "dados['artist_int'] = inteiros #adiciona uma coluna com os valores inteiros\n",
    "remove_features(['artist']) #remove a coluna categorica \n",
    "dados.head()"
   ]
  },
  {
   "cell_type": "markdown",
   "metadata": {},
   "source": [
    "# 3. Modelagem"
   ]
  },
  {
   "cell_type": "markdown",
   "metadata": {
    "colab_type": "text",
    "id": "bJigVUBJMHVe"
   },
   "source": [
    "### Aplicação de pipelines com diferentes kernels para padronizar os dados de maneira automatizada"
   ]
  },
  {
   "cell_type": "code",
   "execution_count": null,
   "metadata": {},
   "outputs": [],
   "source": [
    "from sklearn.pipeline import Pipeline\n",
    "from sklearn.preprocessing import StandardScaler, MinMaxScaler\n",
    "\n",
    "sem_pip = svm.SVC().fit(dados,classe)\n",
    "\n",
    "pip_1 = Pipeline([\n",
    "                   ('scaler', StandardScaler()),  \n",
    "                   ('classificador', svm.SVC())   \n",
    "                 ])\n",
    "\n",
    "pip_2 = Pipeline([\n",
    "                   ('min_max_scaler', MinMaxScaler()),  \n",
    "                   ('classificador', svm.SVC())   \n",
    "                 ])\n",
    "\n",
    "pip_3 = Pipeline([\n",
    "                   ('scaler', StandardScaler()), \n",
    "                   ('classificador', svm.SVC(kernel='poly'))  \n",
    "                 ])\n",
    "\n",
    "pip_4 = Pipeline([\n",
    "                   ('scaler', StandardScaler()), \n",
    "                   ('classificador', svm.SVC(kernel='linear'))  \n",
    "                 ])"
   ]
  },
  {
   "cell_type": "markdown",
   "metadata": {},
   "source": [
    "### Cálculo da acurácia e teste das técnicas de transformação dos dados categóricos"
   ]
  },
  {
   "cell_type": "code",
   "execution_count": null,
   "metadata": {},
   "outputs": [],
   "source": [
    "def acuracia(clf, x, y):\n",
    "    resultados = cross_val_predict(clf, x, y, cv=10)\n",
    "    ac = metrics.accuracy_score(y,resultados)\n",
    "    return ac"
   ]
  },
  {
   "cell_type": "code",
   "execution_count": null,
   "metadata": {},
   "outputs": [],
   "source": [
    "print('Acurácia com GetDummies\\n')\n",
    "print('Sem pipeline:',acuracia(sem_pip, dados_gd, classe))\n",
    "print('Pipeline 1:  ',acuracia(pip_1,dados_gd,classe))\n",
    "print('Pipeline 2:  ',acuracia(pip_2,dados_gd,classe))\n",
    "print('Pipeline 3:  ',acuracia(pip_3,dados_gd,classe))\n",
    "print('Pipeline 4:  ',acuracia(pip_4,dados_gd,classe))"
   ]
  },
  {
   "cell_type": "code",
   "execution_count": null,
   "metadata": {},
   "outputs": [],
   "source": [
    "print('Acurácia com LabelEncoder\\n')\n",
    "print('Sem pipeline:',acuracia(sem_pip, dados, classe))\n",
    "print('Pipeline 1:  ',acuracia(pip_1,dados,classe))\n",
    "print('Pipeline 2:  ',acuracia(pip_2,dados,classe))\n",
    "print('Pipeline 3:  ',acuracia(pip_3,dados,classe))\n",
    "print('Pipeline 4:  ',acuracia(pip_4,dados,classe))"
   ]
  },
  {
   "cell_type": "markdown",
   "metadata": {},
   "source": [
    "**Apesar do problema de ordenação, o conjunto de dados tratado com LabelEncoder apresentou maior acurácia que o conjunto tratado com GetDummies para todos os pipelines, com exceção do pip_2. De fato, a dimensionalidade do dataset aumentou excessivamente com o uso do GetDummies, prejudicando a performance do modelo.** "
   ]
  },
  {
   "cell_type": "markdown",
   "metadata": {
    "colab_type": "text",
    "collapsed": true,
    "id": "eUQ1hIRNMHV0"
   },
   "source": [
    "### Otimização dos parâmetros do modelo usando pip_1, que apresentou maior acurácia"
   ]
  },
  {
   "cell_type": "code",
   "execution_count": null,
   "metadata": {},
   "outputs": [],
   "source": [
    "from sklearn.model_selection import GridSearchCV\n",
    "\n",
    "lista_C = [1e-3, 1e-2, 1e-1, 1e0, 1e1, 1e2]\n",
    "\n",
    "lista_gama = [1e-3, 1e-2, 1e-1, 1e0, 1e1, 1e2]\n",
    "\n",
    "parametros_grid = dict(classificador__C = lista_C, classificador__gamma = lista_gama)\n",
    "grid = GridSearchCV(pip_1, parametros_grid, cv=10, scoring='accuracy')\n",
    "grid.fit(dados,classe)"
   ]
  },
  {
   "cell_type": "code",
   "execution_count": null,
   "metadata": {},
   "outputs": [],
   "source": [
    "C = grid.best_params_.get('classificador__C')\n",
    "gama = grid.best_params_.get('classificador__gamma')\n",
    "\n",
    "print('Parâmetro C otimizado =', C)\n",
    "print('Parâmetro gama otimizado =', gama)"
   ]
  }
 ],
 "metadata": {
  "colab": {
   "name": "Machine Learning - SVM-atual.ipynb",
   "provenance": []
  },
  "kernelspec": {
   "display_name": "Python 3",
   "language": "python",
   "name": "python3"
  },
  "language_info": {
   "codemirror_mode": {
    "name": "ipython",
    "version": 3
   },
   "file_extension": ".py",
   "mimetype": "text/x-python",
   "name": "python",
   "nbconvert_exporter": "python",
   "pygments_lexer": "ipython3",
   "version": "3.8.8"
  }
 },
 "nbformat": 4,
 "nbformat_minor": 1
}
